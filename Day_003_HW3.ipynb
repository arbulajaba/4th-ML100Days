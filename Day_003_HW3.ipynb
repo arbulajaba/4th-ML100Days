{
 "cells": [
  {
   "cell_type": "markdown",
   "metadata": {},
   "source": [
    "專案的目標？ (要解決什麼問題）\n",
    "甲骨文的分類\n",
    "使用的技術是？ (只需知道名稱即可，例如：使用 CNN 卷積神經網路做影像分類)\n",
    "利用CNN技術對於區域特徵來進行分類，由於區域特徵為矢量組成，再利用AE來融合特徵並減小尺寸\n",
    "資料來源？\n",
    "利用深度学习对甲骨材质实现自动分类\n",
    "https://www.jiqizhixin.com/articles/2020-03-02-9\n"
   ]
  }
 ],
 "metadata": {
  "kernelspec": {
   "display_name": "Python 3",
   "language": "python",
   "name": "python3"
  },
  "language_info": {
   "codemirror_mode": {
    "name": "ipython",
    "version": 3
   },
   "file_extension": ".py",
   "mimetype": "text/x-python",
   "name": "python",
   "nbconvert_exporter": "python",
   "pygments_lexer": "ipython3",
   "version": "3.7.4"
  }
 },
 "nbformat": 4,
 "nbformat_minor": 2
}
