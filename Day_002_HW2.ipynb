{
 "cells": [
  {
   "cell_type": "markdown",
   "metadata": {},
   "source": [
    "作業問題：思考題_請找出一個你認為機器學習可以發光發熱的領域並闡述原因?\n",
    "我認為機器學習在各種方面的資料分析上都能起到很大的作用，例如圖像的辨識，利用監督學習的方式讓機器學習能找到對應的圖像在未來的自動化處理可以達到更廣泛的程度。原因在於能夠識別不同的物件代表能夠將這項工作交給機器去運作，也就代表著效率能夠顯著的提升，錯誤率也可能下降，更是省去人力，在控制方面不再侷限於數值的控制，而能進階到圖像，我認為是一大進步。"
   ]
  }
 ],
 "metadata": {
  "kernelspec": {
   "display_name": "Python 3",
   "language": "python",
   "name": "python3"
  },
  "language_info": {
   "codemirror_mode": {
    "name": "ipython",
    "version": 3
   },
   "file_extension": ".py",
   "mimetype": "text/x-python",
   "name": "python",
   "nbconvert_exporter": "python",
   "pygments_lexer": "ipython3",
   "version": "3.7.4"
  }
 },
 "nbformat": 4,
 "nbformat_minor": 2
}
